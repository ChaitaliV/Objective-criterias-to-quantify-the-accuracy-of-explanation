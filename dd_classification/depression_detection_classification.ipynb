{
  "cells": [
    {
      "cell_type": "code",
      "source": [
        "!git clone https://github.com/ChaitaliV/Objective-criterias-to-quantify-the-accuracy-of-explanation"
      ],
      "metadata": {
        "id": "W0FEnO9awZuL"
      },
      "execution_count": null,
      "outputs": []
    },
    {
      "cell_type": "code",
      "source": [
        "from google.colab import drive\n",
        "drive.mount('/content/drive')"
      ],
      "metadata": {
        "id": "b1_3Gvqfzcw2"
      },
      "execution_count": null,
      "outputs": []
    },
    {
      "cell_type": "code",
      "source": [
        "import sys\n",
        "sys.path.append('Objective-criterias-to-quantify-the-accuracy-of-explanation/dd_classification')"
      ],
      "metadata": {
        "id": "_NUoL6crwhol"
      },
      "execution_count": null,
      "outputs": []
    },
    {
      "cell_type": "code",
      "source": [
        "model_path = \"/model\" "
      ],
      "metadata": {
        "id": "9GVi9WS9wokh"
      },
      "execution_count": null,
      "outputs": []
    },
    {
      "cell_type": "code",
      "source": [
        "!pip install tensorflow-text\n",
        "!pip install transformers"
      ],
      "metadata": {
        "id": "sIsDLhbhwtqD"
      },
      "execution_count": null,
      "outputs": []
    },
    {
      "cell_type": "code",
      "execution_count": null,
      "metadata": {
        "id": "Rts3-gMKrEEM"
      },
      "outputs": [],
      "source": [
        "from utils import *\n",
        "from model import *"
      ]
    },
    {
      "cell_type": "code",
      "execution_count": null,
      "metadata": {
        "id": "ckQiTDterUuH"
      },
      "outputs": [],
      "source": [
        "# load all x_train and y_train data\n",
        "x_train,y_train = load_pkl_data(train_pkl)\n",
        "print(\"%d Train Data loaded\"%(len(x_train)))\n",
        "# load all validation data\n",
        "x_val,y_val = load_pkl_data(validation_pkl)\n",
        "print(\"%d Validation Data loaded\"%(len(x_val)))"
      ]
    },
    {
      "cell_type": "code",
      "execution_count": null,
      "metadata": {
        "id": "2eZrxuUysBgP"
      },
      "outputs": [],
      "source": [
        "# load label maps\n",
        "label2ind = load_dict_from_json(label2ind_json)\n",
        "ind2label = load_dict_from_json(ind2label_json)\n",
        "print(\"Labels loaded\")\n",
        "nc = len(label2ind.keys())\n",
        "print(\"Total %d classes\"%nc)"
      ]
    },
    {
      "cell_type": "code",
      "execution_count": null,
      "metadata": {
        "id": "knPoBqMVsH4S"
      },
      "outputs": [],
      "source": [
        "# make a model\n",
        "model = AttentionClassifier(nc,save_path=model_path)\n",
        "print(\"Model created\")"
      ]
    },
    {
      "cell_type": "code",
      "execution_count": null,
      "metadata": {
        "id": "gP7bBQ-esPqx"
      },
      "outputs": [],
      "source": [
        "model.load_model(model_path)\n",
        "model.fit(x_train[:],y_train[:],label2ind,validation_data=[x_val[:],y_val[:]],epochs=3,batch_size=5)"
      ]
    },
    {
      "cell_type": "code",
      "execution_count": null,
      "metadata": {
        "id": "a70phLt4wWJ0"
      },
      "outputs": [],
      "source": [
        "model.load_model(model_path)"
      ]
    },
    {
      "cell_type": "code",
      "source": [
        "ckpt = model.load_model('/model')"
      ],
      "metadata": {
        "id": "tLifxUPf0Ijk"
      },
      "execution_count": null,
      "outputs": []
    },
    {
      "cell_type": "code",
      "source": [],
      "metadata": {
        "id": "L450jCCf0wbI"
      },
      "execution_count": null,
      "outputs": []
    }
  ],
  "metadata": {
    "accelerator": "GPU",
    "colab": {
      "private_outputs": true,
      "provenance": []
    },
    "gpuClass": "standard",
    "kernelspec": {
      "display_name": "Python 3",
      "name": "python3"
    },
    "language_info": {
      "codemirror_mode": {
        "name": "ipython",
        "version": 3
      },
      "file_extension": ".py",
      "mimetype": "text/x-python",
      "name": "python",
      "nbconvert_exporter": "python",
      "pygments_lexer": "ipython3",
      "version": "3.8.16"
    }
  },
  "nbformat": 4,
  "nbformat_minor": 0
}