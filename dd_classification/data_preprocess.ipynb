{
 "cells": [
  {
   "cell_type": "code",
   "execution_count": 3,
   "metadata": {},
   "outputs": [],
   "source": [
    "import pandas as pd\n",
    "import sys,json,pickle,re\n",
    "from utils import *\n",
    "from config import *"
   ]
  },
  {
   "attachments": {},
   "cell_type": "markdown",
   "metadata": {},
   "source": [
    "Original file downloaded from Github (https://github.com/t-davidson/hate-speech-and-offensive-language)"
   ]
  },
  {
   "cell_type": "code",
   "execution_count": 4,
   "metadata": {},
   "outputs": [],
   "source": [
    "# train_file = \"data/labeled_data.csv\"\n",
    "train_file = \"/home/ashish/Documents/dd_classification/data/df_version_16_Mar.csv\""
   ]
  },
  {
   "attachments": {},
   "cell_type": "markdown",
   "metadata": {},
   "source": [
    "Load Train data in dataframe"
   ]
  },
  {
   "cell_type": "code",
   "execution_count": 5,
   "metadata": {},
   "outputs": [
    {
     "data": {
      "text/html": [
       "<div>\n",
       "<style scoped>\n",
       "    .dataframe tbody tr th:only-of-type {\n",
       "        vertical-align: middle;\n",
       "    }\n",
       "\n",
       "    .dataframe tbody tr th {\n",
       "        vertical-align: top;\n",
       "    }\n",
       "\n",
       "    .dataframe thead th {\n",
       "        text-align: right;\n",
       "    }\n",
       "</style>\n",
       "<table border=\"1\" class=\"dataframe\">\n",
       "  <thead>\n",
       "    <tr style=\"text-align: right;\">\n",
       "      <th></th>\n",
       "      <th>Unnamed: 0</th>\n",
       "      <th>Text</th>\n",
       "      <th>Label</th>\n",
       "    </tr>\n",
       "  </thead>\n",
       "  <tbody>\n",
       "    <tr>\n",
       "      <th>5462</th>\n",
       "      <td>6223</td>\n",
       "      <td>पहले नहीं था मतलब दवाइयों से पहले नहीं था।</td>\n",
       "      <td>2.0</td>\n",
       "    </tr>\n",
       "    <tr>\n",
       "      <th>3077</th>\n",
       "      <td>3680</td>\n",
       "      <td>इसके लिए हमें नौकरी चाहिए। नौकरी के आलावा बाकी...</td>\n",
       "      <td>2.0</td>\n",
       "    </tr>\n",
       "    <tr>\n",
       "      <th>2850</th>\n",
       "      <td>3423</td>\n",
       "      <td>फैमिली ( English : Family ) को लेके जो भी है |...</td>\n",
       "      <td>0.0</td>\n",
       "    </tr>\n",
       "    <tr>\n",
       "      <th>5726</th>\n",
       "      <td>6498</td>\n",
       "      <td>मेरे भाईया ना एक पी आई टी ( english : PIT ) हॉ...</td>\n",
       "      <td>2.0</td>\n",
       "    </tr>\n",
       "    <tr>\n",
       "      <th>3649</th>\n",
       "      <td>4325</td>\n",
       "      <td>दवा बता रही हूँ ना डॉक्टर ( english : doctor )...</td>\n",
       "      <td>2.0</td>\n",
       "    </tr>\n",
       "    <tr>\n",
       "      <th>1243</th>\n",
       "      <td>1689</td>\n",
       "      <td>जब ठीक रहती हूँ  तब भी सुबह - शाम ही खाती हूँ ...</td>\n",
       "      <td>1.0</td>\n",
       "    </tr>\n",
       "    <tr>\n",
       "      <th>3837</th>\n",
       "      <td>4518</td>\n",
       "      <td>130 रुपए का बहुत महेंगा पीते है। न सस्ता पीते है।</td>\n",
       "      <td>2.0</td>\n",
       "    </tr>\n",
       "    <tr>\n",
       "      <th>5049</th>\n",
       "      <td>5801</td>\n",
       "      <td>हाँ, अब जब सब सही चल रहा था तो उसका सब सही था,...</td>\n",
       "      <td>2.0</td>\n",
       "    </tr>\n",
       "    <tr>\n",
       "      <th>215</th>\n",
       "      <td>565</td>\n",
       "      <td>जो मैं करती हूँ वो भी वही करते है।</td>\n",
       "      <td>2.0</td>\n",
       "    </tr>\n",
       "    <tr>\n",
       "      <th>508</th>\n",
       "      <td>862</td>\n",
       "      <td>चाह , क्या होता था डर लगता था ?</td>\n",
       "      <td>2.0</td>\n",
       "    </tr>\n",
       "  </tbody>\n",
       "</table>\n",
       "</div>"
      ],
      "text/plain": [
       "      Unnamed: 0                                               Text  Label\n",
       "5462        6223         पहले नहीं था मतलब दवाइयों से पहले नहीं था।    2.0\n",
       "3077        3680  इसके लिए हमें नौकरी चाहिए। नौकरी के आलावा बाकी...    2.0\n",
       "2850        3423  फैमिली ( English : Family ) को लेके जो भी है |...    0.0\n",
       "5726        6498  मेरे भाईया ना एक पी आई टी ( english : PIT ) हॉ...    2.0\n",
       "3649        4325  दवा बता रही हूँ ना डॉक्टर ( english : doctor )...    2.0\n",
       "1243        1689  जब ठीक रहती हूँ  तब भी सुबह - शाम ही खाती हूँ ...    1.0\n",
       "3837        4518  130 रुपए का बहुत महेंगा पीते है। न सस्ता पीते है।    2.0\n",
       "5049        5801  हाँ, अब जब सब सही चल रहा था तो उसका सब सही था,...    2.0\n",
       "215          565                 जो मैं करती हूँ वो भी वही करते है।    2.0\n",
       "508          862                    चाह , क्या होता था डर लगता था ?    2.0"
      ]
     },
     "execution_count": 5,
     "metadata": {},
     "output_type": "execute_result"
    }
   ],
   "source": [
    "train_df = pd.read_csv(train_file)\n",
    "train_df.sample(10)"
   ]
  },
  {
   "cell_type": "code",
   "execution_count": 6,
   "metadata": {},
   "outputs": [
    {
     "data": {
      "text/plain": [
       "array([ 0.,  2.,  1., nan])"
      ]
     },
     "execution_count": 6,
     "metadata": {},
     "output_type": "execute_result"
    }
   ],
   "source": [
    "train_df['Label'].unique()"
   ]
  },
  {
   "cell_type": "code",
   "execution_count": 7,
   "metadata": {},
   "outputs": [
    {
     "data": {
      "text/plain": [
       "Text     False\n",
       "Label    False\n",
       "dtype: bool"
      ]
     },
     "execution_count": 7,
     "metadata": {},
     "output_type": "execute_result"
    }
   ],
   "source": [
    "train_df = train_df[['Text','Label']]\n",
    "train_df.isnull().any()\n",
    "train_df.dropna(inplace = True)\n",
    "train_df.isnull().any()"
   ]
  },
  {
   "cell_type": "code",
   "execution_count": 8,
   "metadata": {},
   "outputs": [
    {
     "data": {
      "text/plain": [
       "array([0., 2., 1.])"
      ]
     },
     "execution_count": 8,
     "metadata": {},
     "output_type": "execute_result"
    }
   ],
   "source": [
    "train_df['Label'].unique()"
   ]
  },
  {
   "cell_type": "code",
   "execution_count": 9,
   "metadata": {},
   "outputs": [
    {
     "data": {
      "text/plain": [
       "False"
      ]
     },
     "execution_count": 9,
     "metadata": {},
     "output_type": "execute_result"
    }
   ],
   "source": [
    "train_df.duplicated().any()"
   ]
  },
  {
   "cell_type": "code",
   "execution_count": 10,
   "metadata": {},
   "outputs": [],
   "source": [
    "train_df['Label'] = train_df['Label'].apply(str)"
   ]
  },
  {
   "cell_type": "code",
   "execution_count": 11,
   "metadata": {},
   "outputs": [
    {
     "data": {
      "text/plain": [
       "array(['0.0', '2.0', '1.0'], dtype=object)"
      ]
     },
     "execution_count": 11,
     "metadata": {},
     "output_type": "execute_result"
    }
   ],
   "source": [
    "train_df['Label'].unique()\n",
    " "
   ]
  },
  {
   "cell_type": "code",
   "execution_count": 12,
   "metadata": {},
   "outputs": [],
   "source": [
    "mapping = {'0.0': 'intro', '1.0': 'dd', '2.0' : 'unknown'}\n",
    "train_df = train_df.replace({'Label': mapping})"
   ]
  },
  {
   "cell_type": "code",
   "execution_count": 13,
   "metadata": {},
   "outputs": [],
   "source": [
    "train_df = train_df[~(train_df['Label'] == \"unknown\")]\n"
   ]
  },
  {
   "cell_type": "code",
   "execution_count": 14,
   "metadata": {},
   "outputs": [
    {
     "data": {
      "text/html": [
       "<div>\n",
       "<style scoped>\n",
       "    .dataframe tbody tr th:only-of-type {\n",
       "        vertical-align: middle;\n",
       "    }\n",
       "\n",
       "    .dataframe tbody tr th {\n",
       "        vertical-align: top;\n",
       "    }\n",
       "\n",
       "    .dataframe thead th {\n",
       "        text-align: right;\n",
       "    }\n",
       "</style>\n",
       "<table border=\"1\" class=\"dataframe\">\n",
       "  <thead>\n",
       "    <tr style=\"text-align: right;\">\n",
       "      <th></th>\n",
       "      <th>Text</th>\n",
       "      <th>Label</th>\n",
       "    </tr>\n",
       "  </thead>\n",
       "  <tbody>\n",
       "    <tr>\n",
       "      <th>0</th>\n",
       "      <td>मैं अपने लिए तो अपने आप बनाती हूँ |</td>\n",
       "      <td>intro</td>\n",
       "    </tr>\n",
       "    <tr>\n",
       "      <th>1</th>\n",
       "      <td>और वो लोग अपने लिए अपने आप बनाते है उनकी फॅमिली |</td>\n",
       "      <td>intro</td>\n",
       "    </tr>\n",
       "    <tr>\n",
       "      <th>3</th>\n",
       "      <td>नहीं वो है बड़ी वाली तो जो उनकी बेटी है और जो ...</td>\n",
       "      <td>intro</td>\n",
       "    </tr>\n",
       "    <tr>\n",
       "      <th>5</th>\n",
       "      <td>हांजी मेरी (english : starting ) वैसे राजोरी ग...</td>\n",
       "      <td>intro</td>\n",
       "    </tr>\n",
       "    <tr>\n",
       "      <th>8</th>\n",
       "      <td>नहीं नहीं (english : Marriage ) से पहले में (e...</td>\n",
       "      <td>dd</td>\n",
       "    </tr>\n",
       "  </tbody>\n",
       "</table>\n",
       "</div>"
      ],
      "text/plain": [
       "                                                Text  Label\n",
       "0                मैं अपने लिए तो अपने आप बनाती हूँ |  intro\n",
       "1  और वो लोग अपने लिए अपने आप बनाते है उनकी फॅमिली |  intro\n",
       "3  नहीं वो है बड़ी वाली तो जो उनकी बेटी है और जो ...  intro\n",
       "5  हांजी मेरी (english : starting ) वैसे राजोरी ग...  intro\n",
       "8  नहीं नहीं (english : Marriage ) से पहले में (e...     dd"
      ]
     },
     "execution_count": 14,
     "metadata": {},
     "output_type": "execute_result"
    }
   ],
   "source": [
    "train_df.head(5)"
   ]
  },
  {
   "cell_type": "code",
   "execution_count": 15,
   "metadata": {},
   "outputs": [
    {
     "data": {
      "text/plain": [
       "array(['intro', 'dd'], dtype=object)"
      ]
     },
     "execution_count": 15,
     "metadata": {},
     "output_type": "execute_result"
    }
   ],
   "source": [
    "train_df['Label'].unique()"
   ]
  },
  {
   "attachments": {},
   "cell_type": "markdown",
   "metadata": {},
   "source": [
    "Find Unique labels and create label map"
   ]
  },
  {
   "cell_type": "code",
   "execution_count": 16,
   "metadata": {},
   "outputs": [
    {
     "name": "stdout",
     "output_type": "stream",
     "text": [
      "['intro', 'dd']\n"
     ]
    }
   ],
   "source": [
    "# 0 - hate speech 1 - offensive language 2 - neither as found in documentation\n",
    "labels = list(train_df[\"Label\"].unique())\n",
    "print(labels)\n",
    "label2ind = {'intro':0, 'dd':1}\n",
    "ind2label = {i:l for l,i in label2ind.items()}\n",
    "with open(\"data/label2ind.json\",\"w\") as f:\n",
    "    json.dump(label2ind,f,indent=1)\n",
    "with open(\"data/ind2label.json\",\"w\") as f:\n",
    "    json.dump(ind2label,f,indent=1)"
   ]
  },
  {
   "attachments": {},
   "cell_type": "markdown",
   "metadata": {},
   "source": [
    "Create a new dataframe with only text and label columnn, also dump in CSV"
   ]
  },
  {
   "cell_type": "code",
   "execution_count": 17,
   "metadata": {},
   "outputs": [
    {
     "name": "stdout",
     "output_type": "stream",
     "text": [
      "                                                Text  Label\n",
      "0                  मैं अपने लिए तो अपने आप बनाती हूँ  intro\n",
      "1    और वो लोग अपने लिए अपने आप बनाते है उनकी फॅमिली  intro\n",
      "3  नहीं वो है बड़ी वाली तो जो उनकी बेटी है और जो ...  intro\n",
      "5  हांजी मेरी english starting वैसे राजोरी गार्डन...  intro\n",
      "8  नहीं नहीं english Marriage से पहले में english...     dd\n"
     ]
    }
   ],
   "source": [
    "new_train_df = train_df[[\"Text\",\"Label\"]]\n",
    "\n",
    "\n",
    "# define preprocessing function\n",
    "def preprocess_tweet(tweet):\n",
    "    # remove usernames, URLs, and special characters\n",
    "    tweet = re.sub(\"@[^\\s]+\", \"\", tweet)\n",
    "    tweet = re.sub(\"(http|https)://[^\\s]*\", \"\", tweet)\n",
    "    tweet = re.sub(\"[^a-zA-Z0-9\\u0900-\\u097F]+\", \" \", tweet)\n",
    "    # remove extra spaces\n",
    "    tweet = re.sub(\"\\s+\", \" \", tweet).strip()\n",
    "    return tweet\n",
    "\n",
    "# apply preprocessing function to \"tweet\" column\n",
    "\n",
    "# new_train_df[\"Text\"] = new_train_df[\"Text\"].map(lambda x:ind2label[x])\n",
    "\n",
    "new_train_df[\"Text\"] = new_train_df[\"Text\"].apply(preprocess_tweet)\n",
    "\n",
    "# new_train_df[\"Text\"] = new_train_df[\"Text\"].map(lambda x:' '.join(re.sub(\"(@[A-Za-z0-9]+)|([^0-9A-Za-z \\t])|(\\w+:\\/\\/\\S+)|RT\",\" \",x).split()))\n",
    "print(new_train_df.head())\n"
   ]
  },
  {
   "cell_type": "code",
   "execution_count": 18,
   "metadata": {},
   "outputs": [],
   "source": [
    "train_file_path = \"/home/ashish/Documents/dd_classification/data/new_train_df.csv\"\n",
    "new_train_df.to_csv(train_file_path,sep=\"@\")"
   ]
  },
  {
   "attachments": {},
   "cell_type": "markdown",
   "metadata": {},
   "source": [
    "Prepare Train and Validation set"
   ]
  },
  {
   "cell_type": "code",
   "execution_count": 19,
   "metadata": {},
   "outputs": [
    {
     "name": "stdout",
     "output_type": "stream",
     "text": [
      "Total 2393 x_train, 2393 y_train\n",
      "Total 821 x_val, 821 y_val\n",
      "Total 203 x_test, 203 y_test\n"
     ]
    }
   ],
   "source": [
    "train_csv_file = \"/home/ashish/Documents/dd_classification/data/new_train_df.csv\"\n",
    "\n",
    "\n",
    "# load all data\n",
    "all_texts,all_labels = load_partial_data(train_csv_file,n=-1)\n",
    "# split data in Train and Validation\n",
    "train_data,val_data = split_for_train(all_texts,all_labels)\n",
    "x_train,y_train = train_data[0],train_data[1]\n",
    "x_val,y_val = val_data[0],val_data[1]\n",
    "# Further split Train data in Test as Original Kaggle Test data does not have labels\n",
    "val_data,test_data = split_for_train(x_val,y_val,val_split=0.2)\n",
    "x_val,y_val = val_data[0],val_data[1]\n",
    "x_test,y_test = test_data[0],test_data[1]\n",
    "print(\"Total %d x_train, %d y_train\"%(len(x_train),len(y_train)))\n",
    "print(\"Total %d x_val, %d y_val\"%(len(x_val),len(y_val)))\n",
    "print(\"Total %d x_test, %d y_test\"%(len(x_test),len(y_test)))"
   ]
  },
  {
   "attachments": {},
   "cell_type": "markdown",
   "metadata": {},
   "source": [
    "Dump all the data in PKL file"
   ]
  },
  {
   "cell_type": "code",
   "execution_count": 20,
   "metadata": {},
   "outputs": [],
   "source": [
    "with open(train_pkl,\"wb\") as f:\n",
    "    pickle.dump((x_train,y_train),f)\n",
    "with open(test_pkl,\"wb\") as f:\n",
    "    pickle.dump((x_test,y_test),f)\n",
    "with open(validation_pkl,\"wb\") as f:\n",
    "    pickle.dump((x_val,y_val),f)"
   ]
  },
  {
   "attachments": {},
   "cell_type": "markdown",
   "metadata": {},
   "source": [
    "Load Original Kaggle Test data "
   ]
  },
  {
   "cell_type": "code",
   "execution_count": 8,
   "metadata": {},
   "outputs": [
    {
     "name": "stderr",
     "output_type": "stream",
     "text": [
      "/tmp/ipykernel_12020/889731494.py:1: ParserWarning: Falling back to the 'python' engine because the 'c' engine does not support regex separators (separators > 1 char and different from '\\s+' are interpreted as regex); you can avoid this warning by specifying engine='python'.\n",
      "  test_df = pd.read_csv(test_file,delimiter=\" ::: \")\n"
     ]
    },
    {
     "name": "stdout",
     "output_type": "stream",
     "text": [
      "   1         Edgar's Lunch (1998)  \\\n",
      "0  2     La guerra de papá (1977)   \n",
      "1  3  Off the Beaten Track (2010)   \n",
      "2  4       Meu Amigo Hindu (2015)   \n",
      "3  5            Er nu zhai (1955)   \n",
      "4  6           Riddle Room (2016)   \n",
      "\n",
      "  L.R. Brane loves his life - his car, his apartment, his job, but especially his girlfriend, Vespa. One day while showering, Vespa runs out of shampoo. L.R. runs across the street to a convenience store to buy some more, a quick trip of no more than a few minutes. When he returns, Vespa is gone and every trace of her existence has been wiped out. L.R.'s life becomes a tortured existence as one strange event after another occurs to confirm in his mind that a conspiracy is working against his finding Vespa.  \n",
      "0  Spain, March 1964: Quico is a very naughty chi...                                                                                                                                                                                                                                                                                                                                                                                                                                                                             \n",
      "1  One year in the life of Albin and his family o...                                                                                                                                                                                                                                                                                                                                                                                                                                                                             \n",
      "2  His father has died, he hasn't spoken with his...                                                                                                                                                                                                                                                                                                                                                                                                                                                                             \n",
      "3  Before he was known internationally as a marti...                                                                                                                                                                                                                                                                                                                                                                                                                                                                             \n",
      "4  Emily Burns is being held captive in a room wi...                                                                                                                                                                                                                                                                                                                                                                                                                                                                             \n"
     ]
    }
   ],
   "source": [
    "test_df = pd.read_csv(test_file,delimiter=\" ::: \")\n",
    "print(test_df.head())"
   ]
  }
 ],
 "metadata": {
  "kernelspec": {
   "display_name": "tatras_p310",
   "language": "python",
   "name": "python3"
  },
  "language_info": {
   "codemirror_mode": {
    "name": "ipython",
    "version": 3
   },
   "file_extension": ".py",
   "mimetype": "text/x-python",
   "name": "python",
   "nbconvert_exporter": "python",
   "pygments_lexer": "ipython3",
   "version": "3.8.16"
  },
  "orig_nbformat": 4
 },
 "nbformat": 4,
 "nbformat_minor": 2
}
