{
  "nbformat": 4,
  "nbformat_minor": 0,
  "metadata": {
    "colab": {
      "provenance": [],
      "authorship_tag": "ABX9TyPE1QptGk5908GMntZ9GKPn",
      "include_colab_link": true
    },
    "kernelspec": {
      "name": "python3",
      "display_name": "Python 3"
    },
    "language_info": {
      "name": "python"
    }
  },
  "cells": [
    {
      "cell_type": "markdown",
      "metadata": {
        "id": "view-in-github",
        "colab_type": "text"
      },
      "source": [
        "<a href=\"https://colab.research.google.com/github/ChaitaliV/Objective-criterias-to-quantify-the-accuracy-of-explanation/blob/main/hate_speech/config.ipynb\" target=\"_parent\"><img src=\"https://colab.research.google.com/assets/colab-badge.svg\" alt=\"Open In Colab\"/></a>"
      ]
    },
    {
      "cell_type": "code",
      "execution_count": 1,
      "metadata": {
        "id": "PiWRBW0AZJwK"
      },
      "outputs": [],
      "source": [
        "# https://tfhub.dev/google/collections/bert/1 load models from here\n",
        "hub_preprocessor_model = \"https://tfhub.dev/tensorflow/bert_en_cased_preprocess/3\"\n",
        "hub_transformer_model = \"https://tfhub.dev/tensorflow/bert_en_cased_L-12_H-768_A-12/4\"\n",
        "hf_preprocessor = \"prajjwal1/bert-tiny\"\n",
        "hf_encoder = \"prajjwal1/bert-tiny\"\n",
        "data_root = \"data\"\n",
        "# for colab\n",
        "# data_root = \"/content/drive/MyDrive/Test_Executions/hate_speech_classification/data\"\n",
        "train_csv_file = \"%s/hate_speech_train.csv\" % data_root\n",
        "label2ind_json = \"%s/label2ind.json\" % data_root\n",
        "ind2label_json = \"%s/ind2label.json\" % data_root\n",
        "attention_dim = 128  # should come from transformer dim, H value\n",
        "train_pkl = \"%s/train.pkl\" % data_root\n",
        "test_pkl = \"%s/test.pkl\" % data_root\n",
        "validation_pkl = \"%s/validation.pkl\" % data_root\n",
        "learning_rate = 1e-5"
      ]
    },
    {
      "cell_type": "code",
      "source": [],
      "metadata": {
        "id": "5TJL1DQYZuTS"
      },
      "execution_count": null,
      "outputs": []
    }
  ]
}