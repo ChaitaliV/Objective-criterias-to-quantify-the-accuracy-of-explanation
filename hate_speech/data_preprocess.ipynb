{
  "nbformat": 4,
  "nbformat_minor": 0,
  "metadata": {
    "colab": {
      "provenance": [],
      "authorship_tag": "ABX9TyPPXxlIxTAonOPiwyG1tQ6J",
      "include_colab_link": true
    },
    "kernelspec": {
      "name": "python3",
      "display_name": "Python 3"
    },
    "language_info": {
      "name": "python"
    }
  },
  "cells": [
    {
      "cell_type": "markdown",
      "metadata": {
        "id": "view-in-github",
        "colab_type": "text"
      },
      "source": [
        "<a href=\"https://colab.research.google.com/github/ChaitaliV/Objective-criterias-to-quantify-the-accuracy-of-explanation/blob/main/hate_speech/data_preprocess.ipynb\" target=\"_parent\"><img src=\"https://colab.research.google.com/assets/colab-badge.svg\" alt=\"Open In Colab\"/></a>"
      ]
    },
    {
      "cell_type": "code",
      "execution_count": 1,
      "metadata": {
        "colab": {
          "base_uri": "https://localhost:8080/"
        },
        "id": "Zd2HwGisbIEc",
        "outputId": "ca0faa66-b254-47b4-b100-d7c5e5d50566"
      },
      "outputs": [
        {
          "output_type": "stream",
          "name": "stdout",
          "text": [
            "Cloning into 'Objective-criterias-to-quantify-the-accuracy-of-explanation'...\n",
            "remote: Enumerating objects: 294, done.\u001b[K\n",
            "remote: Counting objects: 100% (193/193), done.\u001b[K\n",
            "remote: Compressing objects: 100% (129/129), done.\u001b[K\n",
            "remote: Total 294 (delta 90), reused 137 (delta 62), pack-reused 101\u001b[K\n",
            "Receiving objects: 100% (294/294), 23.30 MiB | 6.96 MiB/s, done.\n",
            "Resolving deltas: 100% (134/134), done.\n",
            "Updating files: 100% (21/21), done.\n"
          ]
        }
      ],
      "source": [
        "!git clone https://github.com/ChaitaliV/Objective-criterias-to-quantify-the-accuracy-of-explanation"
      ]
    },
    {
      "cell_type": "code",
      "source": [
        "import pandas as pd\n",
        "import sys,json,pickle,re\n",
        "sys.path.append('Objective-criterias-to-quantify-the-accuracy-of-explanation/hate_speech')\n",
        "from utils import *"
      ],
      "metadata": {
        "id": "gEXX5GMicfQe"
      },
      "execution_count": 2,
      "outputs": []
    },
    {
      "cell_type": "code",
      "source": [
        "data_path = 'Objective-criterias-to-quantify-the-accuracy-of-explanation/hate_speech/Dataset'\n",
        "train_file = data_path+'/data.csv'"
      ],
      "metadata": {
        "id": "VDPIwTAtcnse"
      },
      "execution_count": 3,
      "outputs": []
    },
    {
      "cell_type": "code",
      "source": [
        "train_df = pd.read_csv(train_file)\n",
        "print(train_df.head())"
      ],
      "metadata": {
        "colab": {
          "base_uri": "https://localhost:8080/"
        },
        "id": "KLsVFTrNc1ao",
        "outputId": "3addbf38-075b-4e44-8851-afcbf60193c2"
      },
      "execution_count": 4,
      "outputs": [
        {
          "output_type": "stream",
          "name": "stdout",
          "text": [
            "   Unnamed: 0.1  Unnamed: 0  \\\n",
            "0             0           0   \n",
            "1             1           1   \n",
            "2             2           2   \n",
            "3             3           3   \n",
            "4             4           4   \n",
            "\n",
            "                                                Text  Label  \n",
            "0                मैं अपने लिए तो अपने आप बनाती हूँ |      2  \n",
            "1  और वो लोग अपने लिए अपने आप बनाते है उनकी फॅमिली |      2  \n",
            "2  में अलग हो गया था अलग हो गया था सब मतलब 1 साल ...      1  \n",
            "3  नहीं वो है बड़ी वाली तो जो उनकी बेटी है और जो म...      0  \n",
            "4  मै मेरको ना (english : actually time ) लगता था...      1  \n"
          ]
        }
      ]
    },
    {
      "cell_type": "code",
      "source": [
        "# 0 - hate speech 1 - offensive language 2 - neither as found in documentation\n",
        "labels = list(train_df[\"Label\"].unique())\n",
        "print(labels)"
      ],
      "metadata": {
        "colab": {
          "base_uri": "https://localhost:8080/"
        },
        "id": "kPtlniM0c80-",
        "outputId": "80d29c13-25da-436c-e99e-162825b3e48e"
      },
      "execution_count": 5,
      "outputs": [
        {
          "output_type": "stream",
          "name": "stdout",
          "text": [
            "[2, 1, 0]\n"
          ]
        }
      ]
    },
    {
      "cell_type": "code",
      "source": [
        "label2ind = {\"Introduction\":0,\"Depression\":1,\"Grey area\":2}\n",
        "ind2label = {i:l for l,i in label2ind.items()}"
      ],
      "metadata": {
        "id": "ihn-LW3cdBsS"
      },
      "execution_count": 6,
      "outputs": []
    },
    {
      "cell_type": "code",
      "source": [
        "with open(data_path+\"/label2ind.json\",\"w\") as f:\n",
        "    json.dump(label2ind,f,indent=1)\n",
        "with open(data_path+\"/ind2label.json\",\"w\") as f:\n",
        "    json.dump(ind2label,f,indent=1)"
      ],
      "metadata": {
        "id": "Hjyxuv8adOUg"
      },
      "execution_count": 7,
      "outputs": []
    },
    {
      "cell_type": "code",
      "source": [
        "new_train_df = train_df[[\"Text\",\"Label\"]]\n",
        "label_to_category = {0: 'Introduction', 1: 'Depression', 2: 'Grey area'}\n",
        "new_labels = new_train_df['Label'].map(label_to_category)\n",
        "text = new_train_df['Text'][:]\n",
        "new_train_df = pd.DataFrame({'Text':text, \"Label\":new_labels})\n",
        "new_train_df"
      ],
      "metadata": {
        "colab": {
          "base_uri": "https://localhost:8080/",
          "height": 424
        },
        "id": "UGkIWTrRjjkd",
        "outputId": "48a69645-a03b-422d-f3dc-b99df28cc346"
      },
      "execution_count": 8,
      "outputs": [
        {
          "output_type": "execute_result",
          "data": {
            "text/plain": [
              "                                                   Text         Label\n",
              "0                   मैं अपने लिए तो अपने आप बनाती हूँ |     Grey area\n",
              "1     और वो लोग अपने लिए अपने आप बनाते है उनकी फॅमिली |     Grey area\n",
              "2     में अलग हो गया था अलग हो गया था सब मतलब 1 साल ...    Depression\n",
              "3     नहीं वो है बड़ी वाली तो जो उनकी बेटी है और जो म...  Introduction\n",
              "4     मै मेरको ना (english : actually time ) लगता था...    Depression\n",
              "...                                                 ...           ...\n",
              "6494  हे ना , वो इतना पढ़ी - लिखी थी  वो मेरे से बेटर...    Depression\n",
              "6495  मेरे ये था में मतलब मुझे , अभी भी ऐसा हो रहा ह...    Depression\n",
              "6496  जैसे मुझे कोई चीज़ अगर ऐसी वैसी लगती है कोई भी ...    Depression\n",
              "6497  हाँ, उसके बाद में ही मुझे सेटिस्फैक्शन फील ( e...    Depression\n",
              "6498  मुझे ऐसा फील ( english : feel ) होता है, सैडने...    Depression\n",
              "\n",
              "[6499 rows x 2 columns]"
            ],
            "text/html": [
              "\n",
              "  <div id=\"df-1dacc5d4-ebf7-4632-9884-81133656cce5\">\n",
              "    <div class=\"colab-df-container\">\n",
              "      <div>\n",
              "<style scoped>\n",
              "    .dataframe tbody tr th:only-of-type {\n",
              "        vertical-align: middle;\n",
              "    }\n",
              "\n",
              "    .dataframe tbody tr th {\n",
              "        vertical-align: top;\n",
              "    }\n",
              "\n",
              "    .dataframe thead th {\n",
              "        text-align: right;\n",
              "    }\n",
              "</style>\n",
              "<table border=\"1\" class=\"dataframe\">\n",
              "  <thead>\n",
              "    <tr style=\"text-align: right;\">\n",
              "      <th></th>\n",
              "      <th>Text</th>\n",
              "      <th>Label</th>\n",
              "    </tr>\n",
              "  </thead>\n",
              "  <tbody>\n",
              "    <tr>\n",
              "      <th>0</th>\n",
              "      <td>मैं अपने लिए तो अपने आप बनाती हूँ |</td>\n",
              "      <td>Grey area</td>\n",
              "    </tr>\n",
              "    <tr>\n",
              "      <th>1</th>\n",
              "      <td>और वो लोग अपने लिए अपने आप बनाते है उनकी फॅमिली |</td>\n",
              "      <td>Grey area</td>\n",
              "    </tr>\n",
              "    <tr>\n",
              "      <th>2</th>\n",
              "      <td>में अलग हो गया था अलग हो गया था सब मतलब 1 साल ...</td>\n",
              "      <td>Depression</td>\n",
              "    </tr>\n",
              "    <tr>\n",
              "      <th>3</th>\n",
              "      <td>नहीं वो है बड़ी वाली तो जो उनकी बेटी है और जो म...</td>\n",
              "      <td>Introduction</td>\n",
              "    </tr>\n",
              "    <tr>\n",
              "      <th>4</th>\n",
              "      <td>मै मेरको ना (english : actually time ) लगता था...</td>\n",
              "      <td>Depression</td>\n",
              "    </tr>\n",
              "    <tr>\n",
              "      <th>...</th>\n",
              "      <td>...</td>\n",
              "      <td>...</td>\n",
              "    </tr>\n",
              "    <tr>\n",
              "      <th>6494</th>\n",
              "      <td>हे ना , वो इतना पढ़ी - लिखी थी  वो मेरे से बेटर...</td>\n",
              "      <td>Depression</td>\n",
              "    </tr>\n",
              "    <tr>\n",
              "      <th>6495</th>\n",
              "      <td>मेरे ये था में मतलब मुझे , अभी भी ऐसा हो रहा ह...</td>\n",
              "      <td>Depression</td>\n",
              "    </tr>\n",
              "    <tr>\n",
              "      <th>6496</th>\n",
              "      <td>जैसे मुझे कोई चीज़ अगर ऐसी वैसी लगती है कोई भी ...</td>\n",
              "      <td>Depression</td>\n",
              "    </tr>\n",
              "    <tr>\n",
              "      <th>6497</th>\n",
              "      <td>हाँ, उसके बाद में ही मुझे सेटिस्फैक्शन फील ( e...</td>\n",
              "      <td>Depression</td>\n",
              "    </tr>\n",
              "    <tr>\n",
              "      <th>6498</th>\n",
              "      <td>मुझे ऐसा फील ( english : feel ) होता है, सैडने...</td>\n",
              "      <td>Depression</td>\n",
              "    </tr>\n",
              "  </tbody>\n",
              "</table>\n",
              "<p>6499 rows × 2 columns</p>\n",
              "</div>\n",
              "      <button class=\"colab-df-convert\" onclick=\"convertToInteractive('df-1dacc5d4-ebf7-4632-9884-81133656cce5')\"\n",
              "              title=\"Convert this dataframe to an interactive table.\"\n",
              "              style=\"display:none;\">\n",
              "        \n",
              "  <svg xmlns=\"http://www.w3.org/2000/svg\" height=\"24px\"viewBox=\"0 0 24 24\"\n",
              "       width=\"24px\">\n",
              "    <path d=\"M0 0h24v24H0V0z\" fill=\"none\"/>\n",
              "    <path d=\"M18.56 5.44l.94 2.06.94-2.06 2.06-.94-2.06-.94-.94-2.06-.94 2.06-2.06.94zm-11 1L8.5 8.5l.94-2.06 2.06-.94-2.06-.94L8.5 2.5l-.94 2.06-2.06.94zm10 10l.94 2.06.94-2.06 2.06-.94-2.06-.94-.94-2.06-.94 2.06-2.06.94z\"/><path d=\"M17.41 7.96l-1.37-1.37c-.4-.4-.92-.59-1.43-.59-.52 0-1.04.2-1.43.59L10.3 9.45l-7.72 7.72c-.78.78-.78 2.05 0 2.83L4 21.41c.39.39.9.59 1.41.59.51 0 1.02-.2 1.41-.59l7.78-7.78 2.81-2.81c.8-.78.8-2.07 0-2.86zM5.41 20L4 18.59l7.72-7.72 1.47 1.35L5.41 20z\"/>\n",
              "  </svg>\n",
              "      </button>\n",
              "      \n",
              "  <style>\n",
              "    .colab-df-container {\n",
              "      display:flex;\n",
              "      flex-wrap:wrap;\n",
              "      gap: 12px;\n",
              "    }\n",
              "\n",
              "    .colab-df-convert {\n",
              "      background-color: #E8F0FE;\n",
              "      border: none;\n",
              "      border-radius: 50%;\n",
              "      cursor: pointer;\n",
              "      display: none;\n",
              "      fill: #1967D2;\n",
              "      height: 32px;\n",
              "      padding: 0 0 0 0;\n",
              "      width: 32px;\n",
              "    }\n",
              "\n",
              "    .colab-df-convert:hover {\n",
              "      background-color: #E2EBFA;\n",
              "      box-shadow: 0px 1px 2px rgba(60, 64, 67, 0.3), 0px 1px 3px 1px rgba(60, 64, 67, 0.15);\n",
              "      fill: #174EA6;\n",
              "    }\n",
              "\n",
              "    [theme=dark] .colab-df-convert {\n",
              "      background-color: #3B4455;\n",
              "      fill: #D2E3FC;\n",
              "    }\n",
              "\n",
              "    [theme=dark] .colab-df-convert:hover {\n",
              "      background-color: #434B5C;\n",
              "      box-shadow: 0px 1px 3px 1px rgba(0, 0, 0, 0.15);\n",
              "      filter: drop-shadow(0px 1px 2px rgba(0, 0, 0, 0.3));\n",
              "      fill: #FFFFFF;\n",
              "    }\n",
              "  </style>\n",
              "\n",
              "      <script>\n",
              "        const buttonEl =\n",
              "          document.querySelector('#df-1dacc5d4-ebf7-4632-9884-81133656cce5 button.colab-df-convert');\n",
              "        buttonEl.style.display =\n",
              "          google.colab.kernel.accessAllowed ? 'block' : 'none';\n",
              "\n",
              "        async function convertToInteractive(key) {\n",
              "          const element = document.querySelector('#df-1dacc5d4-ebf7-4632-9884-81133656cce5');\n",
              "          const dataTable =\n",
              "            await google.colab.kernel.invokeFunction('convertToInteractive',\n",
              "                                                     [key], {});\n",
              "          if (!dataTable) return;\n",
              "\n",
              "          const docLinkHtml = 'Like what you see? Visit the ' +\n",
              "            '<a target=\"_blank\" href=https://colab.research.google.com/notebooks/data_table.ipynb>data table notebook</a>'\n",
              "            + ' to learn more about interactive tables.';\n",
              "          element.innerHTML = '';\n",
              "          dataTable['output_type'] = 'display_data';\n",
              "          await google.colab.output.renderOutput(dataTable, element);\n",
              "          const docLink = document.createElement('div');\n",
              "          docLink.innerHTML = docLinkHtml;\n",
              "          element.appendChild(docLink);\n",
              "        }\n",
              "      </script>\n",
              "    </div>\n",
              "  </div>\n",
              "  "
            ]
          },
          "metadata": {},
          "execution_count": 8
        }
      ]
    },
    {
      "cell_type": "code",
      "source": [
        "train_file_path = data_path+\"/hate_speech_train.csv\"\n",
        "new_train_df.to_csv(train_file_path,sep=\",\")"
      ],
      "metadata": {
        "id": "hsRCrHCnj8TX"
      },
      "execution_count": 9,
      "outputs": []
    },
    {
      "cell_type": "code",
      "source": [
        "train_csv_file = data_path+\"/hate_speech_train.csv\""
      ],
      "metadata": {
        "id": "vnqObQLxe7iq"
      },
      "execution_count": 10,
      "outputs": []
    },
    {
      "cell_type": "code",
      "source": [
        "def load_data(csv_path, n=-1): # if n=-1 it will load all data\n",
        "    df = pd.read_csv(csv_path, delimiter=\",\")\n",
        "    df = df.sample(frac=1)  # shuffling rows\n",
        "    texts = []\n",
        "    labels = []\n",
        "    c = 0\n",
        "    if n == -1:\n",
        "        n = len(df)\n",
        "    for idx in df.index:\n",
        "        text = df[\"Text\"][idx]\n",
        "        label = df[\"Label\"][idx]\n",
        "        texts.append(text)\n",
        "        labels.append(label)\n",
        "        c += 1\n",
        "        if c >= n:\n",
        "            break\n",
        "    return texts, labels"
      ],
      "metadata": {
        "id": "uk_8d4sark1L"
      },
      "execution_count": 11,
      "outputs": []
    },
    {
      "cell_type": "code",
      "source": [
        "# load all data\n",
        "all_texts,all_labels = load_data(train_csv_file,n=-1)"
      ],
      "metadata": {
        "id": "2oJESOyseVjh"
      },
      "execution_count": 12,
      "outputs": []
    },
    {
      "cell_type": "code",
      "source": [
        "# split data in Train and Validation\n",
        "train_data,val_data = split_for_train(all_texts,all_labels)\n",
        "x_train,y_train = train_data[0],train_data[1]\n",
        "x_val,y_val = val_data[0],val_data[1]\n",
        "# Further split Train data in Test as Original Kaggle Test data does not have labels\n",
        "val_data,test_data = split_for_train(x_val,y_val,val_split=0.2)\n",
        "x_val,y_val = val_data[0],val_data[1]\n",
        "x_test,y_test = test_data[0],test_data[1]\n",
        "print(\"Total %d x_train, %d y_train\"%(len(x_train),len(y_train)))\n",
        "print(\"Total %d x_val, %d y_val\"%(len(x_val),len(y_val)))\n",
        "print(\"Total %d x_test, %d y_test\"%(len(x_test),len(y_test)))"
      ],
      "metadata": {
        "colab": {
          "base_uri": "https://localhost:8080/"
        },
        "id": "1uFfnwAdeqjx",
        "outputId": "cb96df3b-e62c-4911-9818-604b7992c722"
      },
      "execution_count": 13,
      "outputs": [
        {
          "output_type": "stream",
          "name": "stdout",
          "text": [
            "Total 4551 x_train, 4551 y_train\n",
            "Total 1560 x_val, 1560 y_val\n",
            "Total 388 x_test, 388 y_test\n"
          ]
        }
      ]
    },
    {
      "cell_type": "code",
      "source": [
        "with open( data_path+'/train_pkl',\"wb\") as f:\n",
        "    pickle.dump((x_train,y_train),f)\n",
        "with open( data_path+'/test_pkl',\"wb\") as f:\n",
        "    pickle.dump((x_test,y_test),f)\n",
        "with open( data_path+'/validation_pkl',\"wb\") as f:\n",
        "    pickle.dump((x_val,y_val),f)"
      ],
      "metadata": {
        "id": "Ob1XyHZor22Q"
      },
      "execution_count": 14,
      "outputs": []
    },
    {
      "cell_type": "code",
      "source": [],
      "metadata": {
        "id": "1vEaj1AOr8ct"
      },
      "execution_count": null,
      "outputs": []
    }
  ]
}